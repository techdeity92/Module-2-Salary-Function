{
 "cells": [
  {
   "cell_type": "code",
   "execution_count": 1,
   "id": "270e73c5-42a8-46c9-b505-b26463386406",
   "metadata": {},
   "outputs": [],
   "source": [
    "import pandas as pd\n",
    "import os\n",
    "import zipfile\n",
    "import csv\n",
    "import subprocess"
   ]
  },
  {
   "cell_type": "code",
   "execution_count": 2,
   "id": "76358b05-f2c0-4511-b947-eec725b48f39",
   "metadata": {},
   "outputs": [],
   "source": [
    "def read_csv_data(file_path):\n",
    "    try:\n",
    "        salary_data = pd.read_csv(file_path, low_memory=False)\n",
    "        print('Data successfully loaded.')\n",
    "        return salary_data\n",
    "    except FileNotFoundError:\n",
    "        print('Error: The specified file was not found.')\n",
    "    except Exception as e:\n",
    "        print(f'Error: {e}')"
   ]
  },
  {
   "cell_type": "code",
   "execution_count": 3,
   "id": "f341e192-341c-4eb9-a989-d1f970670879",
   "metadata": {},
   "outputs": [],
   "source": [
    "# Function to get employee details by name\n",
    "def find_employee_by_name(name, data):\n",
    "    try:\n",
    "        employee_record = data[data['EmployeeName'].str.contains(name, case=False)]\n",
    "        if employee_record.empty:\n",
    "            print('No records found for the specified employee name.')\n",
    "            return None\n",
    "        return employee_record\n",
    "    except Exception as e:\n",
    "        print(f'Error: {e}')"
   ]
  },
  {
   "cell_type": "code",
   "execution_count": 4,
   "id": "07542afd-dc18-4eab-9e43-df624a640470",
   "metadata": {},
   "outputs": [],
   "source": [
    "# Data processing with dictionary\n",
    "def convert_data_to_dict(data):\n",
    "    try:\n",
    "        salary_dict = data.drop_duplicates(subset='EmployeeName').set_index('EmployeeName').to_dict(orient='index')\n",
    "        print('Data successfully processed into a dictionary.')\n",
    "        return salary_dict\n",
    "    except KeyError:\n",
    "        print('Error: Ensure the data contains a column named \"Name\".')\n",
    "    except Exception as e:\n",
    "        print(f'Error: {e}')"
   ]
  },
  {
   "cell_type": "code",
   "execution_count": 5,
   "id": "b878c654-44c4-477c-a313-97c759bd1cc7",
   "metadata": {},
   "outputs": [],
   "source": [
    "# Export data to CSV and zip it\n",
    "def save_data_as_csv_and_zip(data, folder_name):\n",
    "    try:\n",
    "        os.makedirs(folder_name, exist_ok=True)\n",
    "        output_csv = os.path.join(folder_name, 'employee_data.csv')\n",
    "        data.to_csv(output_csv, index=False)\n",
    "        zip_path = folder_name + '.zip'\n",
    "        with zipfile.ZipFile(zip_path, 'w') as zipf:\n",
    "            zipf.write(output_csv, os.path.basename(output_csv))\n",
    "        print('Data successfully exported and zipped.')\n",
    "    except Exception as e:\n",
    "        print(f'Error: {e}')"
   ]
  },
  {
   "cell_type": "code",
   "execution_count": 7,
   "id": "a0d5c67b-3035-4073-921e-035a586e785c",
   "metadata": {},
   "outputs": [
    {
     "name": "stdin",
     "output_type": "stream",
     "text": [
      "Enter the full path to the CSV file or leave blank to use the current directory:  \"C:\\Users\\joel\\Downloads\\Module 2 Salary Function\\Total.csv\"\n"
     ]
    },
    {
     "name": "stdout",
     "output_type": "stream",
     "text": [
      "Data successfully loaded.\n",
      "Data successfully processed into a dictionary.\n"
     ]
    },
    {
     "name": "stdin",
     "output_type": "stream",
     "text": [
      "Enter employee name:  DAVID SULLIVAN\n"
     ]
    },
    {
     "name": "stdout",
     "output_type": "stream",
     "text": [
      "Data successfully exported and zipped.\n"
     ]
    },
    {
     "name": "stdin",
     "output_type": "stream",
     "text": [
      "Enter the full path to the R script (unzip_and_display.R):  \"C:\\Users\\joel\\Downloads\\Module 2 Salary Function\\unzip_and_display.R\"\n"
     ]
    },
    {
     "name": "stdout",
     "output_type": "stream",
     "text": [
      "Unexpected error: [WinError 2] The system cannot find the file specified\n"
     ]
    }
   ],
   "source": [
    "def main():\n",
    "    # Request CSV file path or default to current directory\n",
    "    file_path = input('Enter the full path to the CSV file or leave blank to use the current directory: ').strip('\"') or os.path.join(os.getcwd(), 'Total.csv')\n",
    "    \n",
    "    # Load salary data\n",
    "    salary_data = read_csv_data(file_path)\n",
    "\n",
    "    if salary_data is not None:\n",
    "        # Process data\n",
    "        employee_dict = convert_data_to_dict(salary_data)\n",
    "\n",
    "        # Get employee details\n",
    "        name = input('Enter employee name: ')\n",
    "        employee_details = find_employee_by_name(name, salary_data)\n",
    "\n",
    "        # Export and zip data\n",
    "        if employee_details is not None:\n",
    "            save_data_as_csv_and_zip(employee_details, 'Employee_Profile')\n",
    "            print(\"Employee details successfully exported and zipped in 'Employee_Profile.zip'.\")\n",
    "            print(\"Now, run the R script to extract and display the data.\")\n",
    "    else:\n",
    "        print(\"Error: Unable to load salary data.\")\n",
    "\n",
    "if __name__ == '__main__':\n",
    "    main()\n"
   ]
  },
  {
   "cell_type": "code",
   "execution_count": null,
   "id": "faf205ab-e052-4111-aa21-1932ceb76e95",
   "metadata": {},
   "outputs": [],
   "source": []
  }
 ],
 "metadata": {
  "kernelspec": {
   "display_name": "Python 3 (ipykernel)",
   "language": "python",
   "name": "python3"
  },
  "language_info": {
   "codemirror_mode": {
    "name": "ipython",
    "version": 3
   },
   "file_extension": ".py",
   "mimetype": "text/x-python",
   "name": "python",
   "nbconvert_exporter": "python",
   "pygments_lexer": "ipython3",
   "version": "3.11.7"
  }
 },
 "nbformat": 4,
 "nbformat_minor": 5
}
